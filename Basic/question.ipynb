{
 "cells": [
  {
   "cell_type": "code",
   "execution_count": 5,
   "metadata": {},
   "outputs": [
    {
     "name": "stdout",
     "output_type": "stream",
     "text": [
      "odd\n"
     ]
    }
   ],
   "source": [
    "#Check Whether a Number is Even or Odd in Python\n",
    "a = int(input(\"Enter the number  \"))\n",
    "\n",
    "def EvenOdd(nums):\n",
    "    if nums % 2 == 0:\n",
    "        return 'even'\n",
    "    elif nums % 2 != 0:\n",
    "        return 'odd'\n",
    "    else:\n",
    "        return 0\n",
    "\n",
    "result = EvenOdd(a)    \n",
    "print(result)"
   ]
  },
  {
   "cell_type": "code",
   "execution_count": 8,
   "metadata": {},
   "outputs": [
    {
     "name": "stdout",
     "output_type": "stream",
     "text": [
      "15\n"
     ]
    }
   ],
   "source": [
    "#Find the Sum of the First N Natural Numbers in Python\n",
    "\n",
    "n = int(input(\"Enter the number \"))\n",
    "sum = int((n*(n+1)) / 2)\n",
    "\n",
    "\n",
    "print(sum)\n"
   ]
  },
  {
   "cell_type": "code",
   "execution_count": 17,
   "metadata": {},
   "outputs": [
    {
     "name": "stdout",
     "output_type": "stream",
     "text": [
      "14\n"
     ]
    }
   ],
   "source": [
    "#Find the Sum of the Numbers in a Given Interval in Python Language\n",
    "\n",
    "num1 = 2\n",
    "num2 = 5\n",
    "\n",
    "sum = 0\n",
    "\n",
    "for i in range(num1, num2+1):\n",
    "    sum +=i\n",
    "print(sum)\n",
    "\n"
   ]
  },
  {
   "cell_type": "code",
   "execution_count": 21,
   "metadata": {},
   "outputs": [
    {
     "name": "stdout",
     "output_type": "stream",
     "text": [
      "81\n"
     ]
    }
   ],
   "source": [
    "#Find the Greatest of the Two Numbers in Python Language\n",
    "num1 = 81\n",
    "\n",
    "num2 = 80\n",
    "if num1>num2:\n",
    "    print (num1)\n",
    "else:\n",
    "    print(num2)"
   ]
  },
  {
   "cell_type": "code",
   "execution_count": 23,
   "metadata": {},
   "outputs": [
    {
     "name": "stdout",
     "output_type": "stream",
     "text": [
      "720\n"
     ]
    }
   ],
   "source": [
    "#Find the Factorial of a Number in Python Language\n",
    "\n",
    "\n",
    "n = int(input())\n",
    "\n",
    "def factorial(n):\n",
    "    fact = 1\n",
    "    for i in range(1, n+1):\n",
    "        fact = fact*i\n",
    "    return fact\n",
    "\n",
    "\n",
    "print(factorial(n))\n"
   ]
  },
  {
   "cell_type": "code",
   "execution_count": 38,
   "metadata": {},
   "outputs": [
    {
     "name": "stdout",
     "output_type": "stream",
     "text": [
      "dict_keys([10, 30, 20])\n"
     ]
    }
   ],
   "source": [
    "#Finding the frequency of element Frequency of elements in an array using Python\n",
    "from collections import Counter\n",
    "\n",
    "\n",
    "arr = [10, 30, 10, 20, 10, 20, 30, 10]\n",
    "\n",
    "def frequency(arr):\n",
    "    return Counter(arr).keys()\n",
    "    \n",
    "\n",
    "print(frequency(arr))"
   ]
  },
  {
   "cell_type": "code",
   "execution_count": 35,
   "metadata": {},
   "outputs": [
    {
     "name": "stdout",
     "output_type": "stream",
     "text": [
      "5545455\n"
     ]
    }
   ],
   "source": [
    "#Largest Palindrome\n",
    "\n",
    "def ispalindrome(n):\n",
    "    return str(n) == str(n)[::-1]\n",
    "\n",
    "def largestpalindrome(a):\n",
    "    a.sort()\n",
    "    for i in range(len(a)-1, -1, -1):\n",
    "        if ispalindrome(a[i]):\n",
    "            return a[i]\n",
    "    return -1   \n",
    "\n",
    "\n",
    "\n",
    "a = [1, 232, 5545455, 909090, 161]\n",
    "print(largestpalindrome(a))"
   ]
  },
  {
   "cell_type": "code",
   "execution_count": 42,
   "metadata": {},
   "outputs": [
    {
     "data": {
      "text/plain": [
       "[5, 6, 7, 1, 2, 3, 4]"
      ]
     },
     "execution_count": 42,
     "metadata": {},
     "output_type": "execute_result"
    }
   ],
   "source": [
    "#Python program for finding the circular rotations of array by k positions\n",
    "arr = [1, 2, 3, 4, 5, 6, 7]\n",
    "k = 3\n",
    "def rotate_array(arr, k):\n",
    "    n = len(arr)\n",
    "    k = k % n  # In case k is greater than the length of the array\n",
    "    return arr[-k:] + arr[:-k]\n",
    "p = rotate_array(arr,k)\n",
    "p"
   ]
  }
 ],
 "metadata": {
  "kernelspec": {
   "display_name": "Python 3",
   "language": "python",
   "name": "python3"
  },
  "language_info": {
   "codemirror_mode": {
    "name": "ipython",
    "version": 3
   },
   "file_extension": ".py",
   "mimetype": "text/x-python",
   "name": "python",
   "nbconvert_exporter": "python",
   "pygments_lexer": "ipython3",
   "version": "3.9.13"
  }
 },
 "nbformat": 4,
 "nbformat_minor": 2
}
