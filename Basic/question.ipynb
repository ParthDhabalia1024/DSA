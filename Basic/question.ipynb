{
 "cells": [
  {
   "cell_type": "code",
   "execution_count": 5,
   "metadata": {},
   "outputs": [
    {
     "name": "stdout",
     "output_type": "stream",
     "text": [
      "odd\n"
     ]
    }
   ],
   "source": [
    "#Check Whether a Number is Even or Odd in Python\n",
    "a = int(input(\"Enter the number  \"))\n",
    "\n",
    "def EvenOdd(nums):\n",
    "    if nums % 2 == 0:\n",
    "        return 'even'\n",
    "    elif nums % 2 != 0:\n",
    "        return 'odd'\n",
    "    else:\n",
    "        return 0\n",
    "\n",
    "result = EvenOdd(a)    \n",
    "print(result)"
   ]
  },
  {
   "cell_type": "code",
   "execution_count": 8,
   "metadata": {},
   "outputs": [
    {
     "name": "stdout",
     "output_type": "stream",
     "text": [
      "15\n"
     ]
    }
   ],
   "source": [
    "#Find the Sum of the First N Natural Numbers in Python\n",
    "\n",
    "n = int(input(\"Enter the number \"))\n",
    "sum = int((n*(n+1)) / 2)\n",
    "\n",
    "\n",
    "print(sum)\n"
   ]
  },
  {
   "cell_type": "code",
   "execution_count": 17,
   "metadata": {},
   "outputs": [
    {
     "name": "stdout",
     "output_type": "stream",
     "text": [
      "14\n"
     ]
    }
   ],
   "source": [
    "#Find the Sum of the Numbers in a Given Interval in Python Language\n",
    "\n",
    "num1 = 2\n",
    "num2 = 5\n",
    "\n",
    "sum = 0\n",
    "\n",
    "for i in range(num1, num2+1):\n",
    "    sum +=i\n",
    "print(sum)\n",
    "\n"
   ]
  },
  {
   "cell_type": "code",
   "execution_count": 21,
   "metadata": {},
   "outputs": [
    {
     "name": "stdout",
     "output_type": "stream",
     "text": [
      "81\n"
     ]
    }
   ],
   "source": [
    "#Find the Greatest of the Two Numbers in Python Language\n",
    "num1 = 81\n",
    "\n",
    "num2 = 80\n",
    "if num1>num2:\n",
    "    print (num1)\n",
    "else:\n",
    "    print(num2)"
   ]
  }
 ],
 "metadata": {
  "kernelspec": {
   "display_name": "Python 3",
   "language": "python",
   "name": "python3"
  },
  "language_info": {
   "codemirror_mode": {
    "name": "ipython",
    "version": 3
   },
   "file_extension": ".py",
   "mimetype": "text/x-python",
   "name": "python",
   "nbconvert_exporter": "python",
   "pygments_lexer": "ipython3",
   "version": "3.9.13"
  }
 },
 "nbformat": 4,
 "nbformat_minor": 2
}
