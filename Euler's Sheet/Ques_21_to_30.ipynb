{
 "cells": [
  {
   "cell_type": "markdown",
   "metadata": {},
   "source": [
    "Questions done  :  34, 25, 35"
   ]
  },
  {
   "cell_type": "code",
   "execution_count": null,
   "metadata": {},
   "outputs": [
    {
     "name": "stdout",
     "output_type": "stream",
     "text": [
      "Curious numbers: [145, 40585]\n",
      "Sum of curious numbers: 40730\n"
     ]
    }
   ],
   "source": [
    "# QUES 34 : \"145 is a curious number, as 1! + 4! + 5! = 1 + 24 + 120 = 145.\n",
    "# Find the sum of all numbers which are equal to the sum of the factorial of their digits.\n",
    "# Note: as 1! = 1 and 2! = 2 are not sums they are not included.\"\n",
    "\n",
    "\n",
    "import math\n",
    "\n",
    "# Precompute factorials of digits 0-9\n",
    "factorials = {}\n",
    "for i in range(10):\n",
    "    factorials[i] = math.factorial(i)\n",
    "\n",
    "# Function to compute the sum of the factorial of digits\n",
    "def sum_of_digit_factorials(n):\n",
    "    total = 0\n",
    "    for digit in str(n):\n",
    "        total += factorials[int(digit)]\n",
    "    return total\n",
    "\n",
    "# Find all numbers satisfying the condition\n",
    "curious_numbers = []\n",
    "for n in range(10, 2540160):\n",
    "    if n == sum_of_digit_factorials(n):\n",
    "        curious_numbers.append(n)\n",
    "\n",
    "# Compute the final sum\n",
    "sum_curious_numbers = 0\n",
    "for number in curious_numbers:\n",
    "    sum_curious_numbers += number\n",
    "\n",
    "print(\"Curious numbers:\", curious_numbers)\n",
    "print(\"Sum of curious numbers:\", sum_curious_numbers)"
   ]
  },
  {
   "cell_type": "code",
   "execution_count": 2,
   "metadata": {},
   "outputs": [
    {
     "name": "stdout",
     "output_type": "stream",
     "text": [
      "Index of the first Fibonacci number with 1000 digits: 4782\n"
     ]
    }
   ],
   "source": [
    "# QUES 25 : \"The Fibonacci sequence is defined by the recurrence relation:\n",
    "# Fn = Fn−1 + Fn−2, where F1 = 1 and F2 = 1.\n",
    "# Hence the first 12 terms will be:\n",
    "# F1 = 1\n",
    "# F2 = 1\n",
    "# F3 = 2\n",
    "# F4 = 3\n",
    "# F5 = 5\n",
    "# F6 = 8\n",
    "# F7 = 13\n",
    "# F8 = 21\n",
    "# F9 = 34\n",
    "# F10 = 55\n",
    "# F11 = 89\n",
    "# F12 = 144\n",
    "# The 12th term, F12, is the first term to contain three digits.\n",
    "# What is the index of the first term in the Fibonacci sequence to contain 1000 digits?\"\n",
    "\n",
    "import math\n",
    "\n",
    "def find_fibonacci_index_with_digits(limit):\n",
    "    \"\"\"Find the index of the first Fibonacci number with the given digit limit.\"\"\"\n",
    "    a, b = 1, 1\n",
    "    index = 2\n",
    "    \n",
    "    while True:\n",
    "        a, b = b, a + b\n",
    "        index += 1\n",
    "        \n",
    "        if math.floor(math.log10(b)) + 1 >= limit:\n",
    "            return index\n",
    "\n",
    "# Find the index of the first Fibonacci number with 1000 digits\n",
    "result = find_fibonacci_index_with_digits(1000)\n",
    "print(\"Index of the first Fibonacci number with 1000 digits:\", result)\n"
   ]
  },
  {
   "cell_type": "code",
   "execution_count": 12,
   "metadata": {},
   "outputs": [
    {
     "name": "stdout",
     "output_type": "stream",
     "text": [
      "Number of circular primes below one million: 55\n"
     ]
    }
   ],
   "source": [
    "# QUES 35 : \"The number, 197, is called a circular prime because all rotations of the digits: 197, 971, and 719, are themselves prime.\n",
    "# There are thirteen such primes below 100: 2, 3, 5, 7, 11, 13, 17, 31, 37, 71, 73, 79, and 97.\n",
    "# How many circular primes are there below one million?\"\n",
    "\n",
    "import math\n",
    "\n",
    "def is_prime(n):\n",
    "    \"\"\"Check if a number is prime.\"\"\"\n",
    "    if n < 2:\n",
    "        return False\n",
    "    for i in range(2, int(math.sqrt(n)) + 1):\n",
    "        if n % i == 0:\n",
    "            return False\n",
    "    return True\n",
    "\n",
    "def get_rotations(n):\n",
    "    \"\"\"Generate all rotations of a number's digits.\"\"\"\n",
    "    str_n = str(n)\n",
    "    rotations = []\n",
    "    for i in range(len(str_n)):\n",
    "        rotations.append(int(str_n[i:] + str_n[:i]))\n",
    "    return rotations\n",
    "\n",
    "def is_circular_prime(n, primes_set):\n",
    "    \"\"\"Check if all rotations of a number are prime.\"\"\"\n",
    "    for rotation in get_rotations(n):\n",
    "        if rotation not in primes_set:\n",
    "            return False\n",
    "    return True\n",
    "\n",
    "def find_circular_primes(limit):\n",
    "    \"\"\"Find all circular primes below a given limit.\"\"\"\n",
    "    primes = set()\n",
    "    for n in range(2, limit):\n",
    "        if is_prime(n):\n",
    "            primes.add(n)\n",
    "    \n",
    "    circular_primes = []\n",
    "    for prime in primes:\n",
    "        if is_circular_prime(prime, primes):\n",
    "            circular_primes.append(prime)\n",
    "    \n",
    "    return circular_primes\n",
    "\n",
    "# Find circular primes below one million\n",
    "circular_primes = find_circular_primes(1000000)\n",
    "print(\"Number of circular primes below one million:\", len(circular_primes))\n"
   ]
  }
 ],
 "metadata": {
  "kernelspec": {
   "display_name": "base",
   "language": "python",
   "name": "python3"
  },
  "language_info": {
   "codemirror_mode": {
    "name": "ipython",
    "version": 3
   },
   "file_extension": ".py",
   "mimetype": "text/x-python",
   "name": "python",
   "nbconvert_exporter": "python",
   "pygments_lexer": "ipython3",
   "version": "3.12.4"
  }
 },
 "nbformat": 4,
 "nbformat_minor": 2
}
